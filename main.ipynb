{
 "cells": [
  {
   "cell_type": "code",
   "execution_count": 318,
   "id": "4bc16f4f",
   "metadata": {},
   "outputs": [],
   "source": [
    "import matplotlib.pyplot as plt\n",
    "import cv2 as cv\n",
    "import numpy as np\n",
    "\n",
    "image_count = 6*8\n",
    "X = np.zeros((image_count, 112*92))\n",
    "for i in range(6):\n",
    "    for j in range(8):\n",
    "        image = cv.imread(f'images/s{i+1}/{j+1}.pgm', cv.IMREAD_GRAYSCALE)\n",
    "        image_arr = np.resize(image, (112*92))\n",
    "        X[8*i+j] = image_arr\n",
    "\n",
    "mean_face = np.mean(X, axis=0)\n",
    "for i in range(image_count):\n",
    "    X[i] -= mean_face"
   ]
  },
  {
   "cell_type": "code",
   "execution_count": 319,
   "id": "8d0893dc",
   "metadata": {},
   "outputs": [],
   "source": [
    "# Transpose to get the correct dimensions\n",
    "U, S, Vh = np.linalg.svd(X.transpose())"
   ]
  },
  {
   "cell_type": "code",
   "execution_count": null,
   "id": "0918b60c",
   "metadata": {},
   "outputs": [],
   "source": [
    "k = 20\n",
    "U_k = U.copy()\n",
    "U_k[:, k+1:] = 0"
   ]
  },
  {
   "cell_type": "code",
   "execution_count": 324,
   "id": "cc84ce5d",
   "metadata": {},
   "outputs": [
    {
     "name": "stdout",
     "output_type": "stream",
     "text": [
      "Image is from s5\n"
     ]
    }
   ],
   "source": [
    "test_image = cv.imread(f'images/s5/10.pgm', cv.IMREAD_GRAYSCALE)\n",
    "test_image_arr = np.resize(test_image, (112*92))\n",
    "test_image_coord = U_k.transpose() @ (test_image_arr - mean_face)\n",
    "\n",
    "best_idx = -1\n",
    "best_fit = np.inf\n",
    "for i in range(image_count):\n",
    "    image_arr = X[i]\n",
    "    image_coord = U_k.transpose() @ image_arr\n",
    "    fit = np.linalg.norm(image_coord - test_image_coord)\n",
    "\n",
    "    if fit < best_fit:\n",
    "        best_idx = i\n",
    "        best_fit = fit\n",
    "\n",
    "print(f\"Image is from s{int(best_idx/8)+1}\")"
   ]
  }
 ],
 "metadata": {
  "kernelspec": {
   "display_name": "Python 3",
   "language": "python",
   "name": "python3"
  },
  "language_info": {
   "codemirror_mode": {
    "name": "ipython",
    "version": 3
   },
   "file_extension": ".py",
   "mimetype": "text/x-python",
   "name": "python",
   "nbconvert_exporter": "python",
   "pygments_lexer": "ipython3",
   "version": "3.13.3"
  }
 },
 "nbformat": 4,
 "nbformat_minor": 5
}
