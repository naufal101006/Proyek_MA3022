{
 "cells": [
  {
   "cell_type": "code",
   "execution_count": 99,
   "id": "4bc16f4f",
   "metadata": {},
   "outputs": [],
   "source": [
    "import matplotlib.pyplot as plt\n",
    "import cv2 as cv\n",
    "import numpy as np\n",
    "\n",
    "# Parameters\n",
    "image_train = 4\n",
    "person_count = 6\n",
    "image_count = person_count*image_train\n",
    "\n",
    "# Load images\n",
    "X = np.zeros((image_count, 112*92))\n",
    "for i in range(person_count):\n",
    "    for j in range(image_train):\n",
    "        image = cv.imread(f'images/s{i+1}/{j+1}.pgm', cv.IMREAD_GRAYSCALE)\n",
    "        image_arr = np.resize(image, (112*92))\n",
    "\n",
    "        X[image_train*i+j] = image_arr\n",
    "\n",
    "# Calculate mean_face and X_c\n",
    "mean_face = np.mean(X, axis=0)\n",
    "for i in range(image_count):\n",
    "    X[i] -= mean_face"
   ]
  },
  {
   "cell_type": "code",
   "execution_count": null,
   "id": "8d0893dc",
   "metadata": {},
   "outputs": [],
   "source": [
    "# Transpose to get the correct dimensions for U and Vh\n",
    "U, S, Vh = np.linalg.svd(X.transpose())"
   ]
  },
  {
   "cell_type": "code",
   "execution_count": 101,
   "id": "0918b60c",
   "metadata": {},
   "outputs": [],
   "source": [
    "# Helper function to get U_k of different ks\n",
    "def get_U_k(k):\n",
    "    U_k = U.copy()\n",
    "    U_k[:, k:] = 0\n",
    "    return U_k"
   ]
  },
  {
   "cell_type": "code",
   "execution_count": null,
   "id": "ef01d363",
   "metadata": {},
   "outputs": [
    {
     "name": "stdout",
     "output_type": "stream",
     "text": [
      "Image is from s1 (True: 1)\n",
      "Image is from s1 (True: 1)\n",
      "Image is from s1 (True: 1)\n",
      "Image is from s1 (True: 1)\n",
      "Image is from s2 (True: 2)\n",
      "Image is from s2 (True: 2)\n",
      "Image is from s2 (True: 2)\n",
      "Image is from s2 (True: 2)\n",
      "Image is from s3 (True: 3)\n",
      "Image is from s3 (True: 3)\n",
      "Image is from s3 (True: 3)\n",
      "Image is from s3 (True: 3)\n",
      "Image is from s4 (True: 4)\n",
      "Image is from s4 (True: 4)\n",
      "Image is from s4 (True: 4)\n",
      "Image is from s4 (True: 4)\n",
      "Image is from s5 (True: 5)\n",
      "Image is from s5 (True: 5)\n",
      "Image is from s5 (True: 5)\n",
      "Image is from s5 (True: 5)\n",
      "Image is from s6 (True: 6)\n",
      "Image is from s6 (True: 6)\n",
      "Image is from s6 (True: 6)\n",
      "Image is from s6 (True: 6)\n",
      "Image is from s1 (True: 1)\n",
      "Image is from s1 (True: 1)\n",
      "Image is from s1 (True: 1)\n",
      "Image is from s1 (True: 1)\n",
      "Image is from s2 (True: 2)\n",
      "Image is from s2 (True: 2)\n",
      "Image is from s2 (True: 2)\n",
      "Image is from s2 (True: 2)\n",
      "Image is from s3 (True: 3)\n",
      "Image is from s3 (True: 3)\n",
      "Image is from s3 (True: 3)\n",
      "Image is from s3 (True: 3)\n",
      "Image is from s4 (True: 4)\n",
      "Image is from s4 (True: 4)\n",
      "Image is from s4 (True: 4)\n",
      "Image is from s4 (True: 4)\n",
      "Image is from s5 (True: 5)\n",
      "Image is from s5 (True: 5)\n",
      "Image is from s5 (True: 5)\n",
      "Image is from s5 (True: 5)\n",
      "Image is from s6 (True: 6)\n",
      "Image is from s6 (True: 6)\n",
      "Image is from s6 (True: 6)\n",
      "Image is from s6 (True: 6)\n"
     ]
    }
   ],
   "source": [
    "# Loop over 2 different ks\n",
    "for k in [10, 20]:\n",
    "    U_k = get_U_k(k)\n",
    "\n",
    "    # Loop over every test image\n",
    "    for i in range(6):\n",
    "        for j in range(4, 8):\n",
    "            # Get coordinate of test image in eigenspace\n",
    "            test_image = cv.imread(f'images/s{i+1}/{j+1}.pgm', cv.IMREAD_GRAYSCALE)\n",
    "            test_image_arr = np.resize(test_image, (112*92))\n",
    "            test_image_coord = U_k[:, :k].transpose().dot(test_image_arr - mean_face) # Much faster to ignore 0 columns and directly use the dot function\n",
    "\n",
    "            # Find best fit by using nearest neighbour\n",
    "            best_idx = -1\n",
    "            best_fit = np.inf\n",
    "            for p in range(image_count):\n",
    "                # Get the image coordinate for each training image\n",
    "                image_arr = X[p]\n",
    "                image_coord = U_k[:, :k].transpose().dot(image_arr)\n",
    "\n",
    "                # Get the Euclidean distance\n",
    "                fit = np.linalg.norm(image_coord - test_image_coord)\n",
    "\n",
    "                # Update the best one\n",
    "                if fit < best_fit:\n",
    "                    best_idx = p\n",
    "                    best_fit = fit\n",
    "\n",
    "            # Result\n",
    "            print(f\"Image is from s{int(best_idx/image_train)+1} (True: {i+1})\")"
   ]
  },
  {
   "cell_type": "code",
   "execution_count": null,
   "id": "e329af5c",
   "metadata": {},
   "outputs": [
    {
     "data": {
      "image/png": "[encoded data removed]",
      "text/plain": [
       "<Figure size 640x480 with 1 Axes>"
      ]
     },
     "metadata": {},
     "output_type": "display_data"
    }
   ],
   "source": [
    "# Get U_10\n",
    "U_10 = get_U_k(10)\n",
    "\n",
    "# Get coordinate of training image in eigenspace\n",
    "x = U_10[:, :10].dot(U_10[:, :10].transpose().dot(X[20])) + mean_face\n",
    "\n",
    "# Show result\n",
    "plt.imshow(x.reshape((112, 92)), cmap='gray')\n",
    "plt.show()"
   ]
  }
 ],
 "metadata": {
  "kernelspec": {
   "display_name": "Python 3",
   "language": "python",
   "name": "python3"
  },
  "language_info": {
   "codemirror_mode": {
    "name": "ipython",
    "version": 3
   },
   "file_extension": ".py",
   "mimetype": "text/x-python",
   "name": "python",
   "nbconvert_exporter": "python",
   "pygments_lexer": "ipython3",
   "version": "3.13.3"
  }
 },
 "nbformat": 4,
 "nbformat_minor": 5
}
