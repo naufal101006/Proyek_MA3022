{
 "cells": [
  {
   "cell_type": "code",
   "execution_count": null,
   "id": "4bc16f4f",
   "metadata": {},
   "outputs": [],
   "source": [
    "import matplotlib.pyplot as plt\n",
    "import cv2 as cv\n",
    "import numpy as np\n",
    "\n",
    "image_count = 6*8\n",
    "X = np.zeros((image_count, 92*112))\n",
    "mean_face = np.zeros((92, 112))\n",
    "for i in range(6):\n",
    "    for j in range(8):\n",
    "        image = cv.imread('images/s1/1.pgm', cv.IMREAD_GRAYSCALE)\n",
    "        image_arr = np.array([pixel for row in image for pixel in row], dtype=np.float16)\n",
    "        X[i*j] = image_arr\n",
    "\n",
    "\n"
   ]
  }
 ],
 "metadata": {
  "kernelspec": {
   "display_name": "Python 3",
   "language": "python",
   "name": "python3"
  },
  "language_info": {
   "codemirror_mode": {
    "name": "ipython",
    "version": 3
   },
   "file_extension": ".py",
   "mimetype": "text/x-python",
   "name": "python",
   "nbconvert_exporter": "python",
   "pygments_lexer": "ipython3",
   "version": "3.13.3"
  }
 },
 "nbformat": 4,
 "nbformat_minor": 5
}
